{
 "cells": [
  {
   "cell_type": "code",
   "execution_count": 3,
   "metadata": {},
   "outputs": [
    {
     "name": "stdout",
     "output_type": "stream",
     "text": [
      "\n",
      "Round 1!\n",
      "You chose: rock\n",
      "Computer chose: scissors\n",
      "You win!\n",
      "\n",
      "Round 2!\n",
      "Invalid choice. Please try again.\n",
      "You chose: rock\n",
      "Computer chose: paper\n",
      "Computer wins!\n",
      "\n",
      "Round 3!\n"
     ]
    }
   ],
   "source": [
    "import random\n",
    "\n",
    "def get_computer_choice():\n",
    "    return random.choice(['rock', 'paper', 'scissors'])\n",
    "\n",
    "def get_user_choice():\n",
    "    choice = input(\"Enter your choice (rock, paper, scissors): \").lower()\n",
    "    while choice not in ['rock', 'paper', 'scissors']:\n",
    "        print(\"Invalid choice. Please try again.\")\n",
    "        choice = input(\"Enter your choice (rock, paper, scissors): \").lower()\n",
    "    return choice\n",
    "\n",
    "def determine_winner(user_choice, computer_choice):\n",
    "    if user_choice == computer_choice:\n",
    "        return \"It's a tie!\"\n",
    "    elif (user_choice == 'rock' and computer_choice == 'scissors') or \\\n",
    "         (user_choice == 'paper' and computer_choice == 'rock') or \\\n",
    "         (user_choice == 'scissors' and computer_choice == 'paper'):\n",
    "        return \"You win!\"\n",
    "    else:\n",
    "        return \"Computer wins!\"\n",
    "\n",
    "def main():\n",
    "    user_score = 0\n",
    "    computer_score = 0\n",
    "    rounds = 3\n",
    "\n",
    "    for round in range(1, rounds + 1):\n",
    "        print(f\"\\nRound {round}!\")\n",
    "        user_choice = get_user_choice()\n",
    "        computer_choice = get_computer_choice()\n",
    "        \n",
    "        print(f\"You chose: {user_choice}\")\n",
    "        print(f\"Computer chose: {computer_choice}\")\n",
    "        \n",
    "        result = determine_winner(user_choice, computer_choice)\n",
    "        print(result)\n",
    "\n",
    "        if result == \"You win!\":\n",
    "            user_score += 1\n",
    "        elif result == \"Computer wins!\":\n",
    "            computer_score += 1\n",
    "\n",
    "    print(\"\\nFinal Score:\")\n",
    "    print(f\"You: {user_score}, Computer: {computer_score}\")\n",
    "\n",
    "    if user_score > computer_score:\n",
    "        print(\"Congratulations! You are the overall winner!\")\n",
    "    elif computer_score > user_score:\n",
    "        print(\"Computer is the overall winner! Better luck next time.\")\n",
    "    else:\n",
    "        print(\"The game ended in a tie!\")\n",
    "\n",
    "if __name__ == \"__main__\":\n",
    "    main()\n"
   ]
  }
 ],
 "metadata": {
  "kernelspec": {
   "display_name": "Python 3",
   "language": "python",
   "name": "python3"
  },
  "language_info": {
   "codemirror_mode": {
    "name": "ipython",
    "version": 3
   },
   "file_extension": ".py",
   "mimetype": "text/x-python",
   "name": "python",
   "nbconvert_exporter": "python",
   "pygments_lexer": "ipython3",
   "version": "3.11.9"
  }
 },
 "nbformat": 4,
 "nbformat_minor": 2
}
